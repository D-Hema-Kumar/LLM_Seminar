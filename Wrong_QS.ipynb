{
 "cells": [
  {
   "cell_type": "code",
   "execution_count": 184,
   "id": "ed13470a",
   "metadata": {},
   "outputs": [],
   "source": [
    "import pandas as pd\n",
    "import os\n",
    "import json\n",
    "import re"
   ]
  },
  {
   "cell_type": "code",
   "execution_count": 185,
   "id": "7ba7df96",
   "metadata": {},
   "outputs": [],
   "source": [
    "dataset_path='./dev_rand_split.jsonl'\n",
    "exp_output = './exp2.txt'"
   ]
  },
  {
   "cell_type": "code",
   "execution_count": 186,
   "id": "c9161645",
   "metadata": {},
   "outputs": [],
   "source": [
    "false_QS = []\n",
    "stem = 'A revolving door is convenient for two direction travel, but it also serves as a security measure at a what?'"
   ]
  },
  {
   "cell_type": "code",
   "execution_count": 187,
   "id": "fe14ae6b",
   "metadata": {},
   "outputs": [],
   "source": [
    "with open(dataset_path) as f:\n",
    "    lines = f.readlines()\n",
    "    for line in lines:\n",
    "        json_res = json.JSONDecoder().raw_decode(line)[0]\n",
    "        if (json_res[\"question\"][\"stem\"]==stem):\n",
    "            false_QS.append(json_res)\n",
    "f.close()            "
   ]
  },
  {
   "cell_type": "code",
   "execution_count": 188,
   "id": "c3aa5fa1",
   "metadata": {},
   "outputs": [
    {
     "data": {
      "text/plain": [
       "[{'answerKey': 'A',\n",
       "  'id': '1afa02df02c908a558b4036e80242fac',\n",
       "  'question': {'question_concept': 'revolving door',\n",
       "   'choices': [{'label': 'A', 'text': 'bank'},\n",
       "    {'label': 'B', 'text': 'library'},\n",
       "    {'label': 'C', 'text': 'department store'},\n",
       "    {'label': 'D', 'text': 'mall'},\n",
       "    {'label': 'E', 'text': 'new york'}],\n",
       "   'stem': 'A revolving door is convenient for two direction travel, but it also serves as a security measure at a what?'}}]"
      ]
     },
     "execution_count": 188,
     "metadata": {},
     "output_type": "execute_result"
    }
   ],
   "source": [
    "false_QS"
   ]
  },
  {
   "cell_type": "code",
   "execution_count": 189,
   "id": "768a38b0",
   "metadata": {},
   "outputs": [],
   "source": [
    "question = []\n",
    "pred_before= []\n",
    "pred_after=[]\n",
    "pred=[]\n",
    "GT = []"
   ]
  },
  {
   "cell_type": "code",
   "execution_count": 190,
   "id": "ff6cd61a",
   "metadata": {},
   "outputs": [
    {
     "name": "stdout",
     "output_type": "stream",
     "text": [
      "['What are candles good for eliminating?', 'If there is a pond with trees around it, where it it likely located?', 'Reading newspaper one of many ways to practice your what?']\n"
     ]
    }
   ],
   "source": [
    "with open(exp_output) as e:\n",
    "    lines = e.readlines()\n",
    "    for line in lines:\n",
    "        found = re.search('^Q: (.*) Answer Choices:',line)\n",
    "        if found:\n",
    "            question.append(found.group(1))\n",
    "e.close()\n",
    "print(question[:3])"
   ]
  },
  {
   "cell_type": "code",
   "execution_count": 191,
   "id": "b425950e",
   "metadata": {},
   "outputs": [
    {
     "data": {
      "text/plain": [
       "1221"
      ]
     },
     "execution_count": 191,
     "metadata": {},
     "output_type": "execute_result"
    }
   ],
   "source": [
    "len(question)"
   ]
  },
  {
   "cell_type": "code",
   "execution_count": 192,
   "id": "6e7ba1c7",
   "metadata": {},
   "outputs": [
    {
     "name": "stdout",
     "output_type": "stream",
     "text": [
      "['probably (A), (B), (C), or (D).', 'C.', 'A.']\n"
     ]
    }
   ],
   "source": [
    "#pred_before\n",
    "with open(exp_output) as e:\n",
    "    lines = e.readlines()\n",
    "    for line in lines:\n",
    "        found = re.search('^pred_before :  (.*)',line)\n",
    "        if found:\n",
    "            pred_before.append(found.group(1))\n",
    "e.close()\n",
    "print(pred_before[:3])"
   ]
  },
  {
   "cell_type": "code",
   "execution_count": 193,
   "id": "214b6c79",
   "metadata": {},
   "outputs": [
    {
     "data": {
      "text/plain": [
       "1221"
      ]
     },
     "execution_count": 193,
     "metadata": {},
     "output_type": "execute_result"
    }
   ],
   "source": [
    "len(pred_before)"
   ]
  },
  {
   "cell_type": "code",
   "execution_count": 194,
   "id": "5ca4fda2",
   "metadata": {},
   "outputs": [
    {
     "name": "stdout",
     "output_type": "stream",
     "text": [
      "['A', 'C', 'A']\n"
     ]
    }
   ],
   "source": [
    "#pred_after\n",
    "with open(exp_output) as e:\n",
    "    lines = e.readlines()\n",
    "    for line in lines:\n",
    "        found = re.search('^pred_after : (.*)',line)\n",
    "        if found:\n",
    "            pred_after.append(found.group(1))\n",
    "e.close()\n",
    "print(pred_after[:3])"
   ]
  },
  {
   "cell_type": "code",
   "execution_count": 195,
   "id": "e256061a",
   "metadata": {},
   "outputs": [
    {
     "data": {
      "text/plain": [
       "1221"
      ]
     },
     "execution_count": 195,
     "metadata": {},
     "output_type": "execute_result"
    }
   ],
   "source": [
    "len(pred_after)"
   ]
  },
  {
   "cell_type": "code",
   "execution_count": 196,
   "id": "8ee0dbc6",
   "metadata": {},
   "outputs": [
    {
     "name": "stdout",
     "output_type": "stream",
     "text": [
      "['A', 'C', 'A']\n"
     ]
    }
   ],
   "source": [
    "#pred\n",
    "with open(exp_output) as e:\n",
    "    lines = e.readlines()\n",
    "    for line in lines:\n",
    "        found = re.search('^pred : (.*)',line)\n",
    "        if found:\n",
    "            pred.append(found.group(1))\n",
    "e.close()\n",
    "print(pred[:3])"
   ]
  },
  {
   "cell_type": "code",
   "execution_count": 197,
   "id": "ebcee710",
   "metadata": {},
   "outputs": [
    {
     "data": {
      "text/plain": [
       "1221"
      ]
     },
     "execution_count": 197,
     "metadata": {},
     "output_type": "execute_result"
    }
   ],
   "source": [
    "len(pred)"
   ]
  },
  {
   "cell_type": "code",
   "execution_count": 198,
   "id": "2b908519",
   "metadata": {},
   "outputs": [
    {
     "name": "stdout",
     "output_type": "stream",
     "text": [
      "['E', 'C', 'A']\n"
     ]
    }
   ],
   "source": [
    "#GT\n",
    "with open(exp_output) as e:\n",
    "    lines = e.readlines()\n",
    "    for line in lines:\n",
    "        found = re.search('^GT : (.*)',line)\n",
    "        if found:\n",
    "            GT.append(found.group(1))\n",
    "e.close()\n",
    "print(GT[:3])"
   ]
  },
  {
   "cell_type": "code",
   "execution_count": 199,
   "id": "4b3b8dab",
   "metadata": {},
   "outputs": [
    {
     "data": {
      "text/plain": [
       "1221"
      ]
     },
     "execution_count": 199,
     "metadata": {},
     "output_type": "execute_result"
    }
   ],
   "source": [
    "len(GT)"
   ]
  },
  {
   "cell_type": "code",
   "execution_count": 200,
   "id": "906a36ec",
   "metadata": {},
   "outputs": [
    {
     "name": "stdout",
     "output_type": "stream",
     "text": [
      "[\"Let's think step by step. Candles are often used for light, so (E) dark is probably not the answer. Candles are also used for decoration or to make a place smell nice, so (A) shelf, (B) board, (C) church, and (D) table are all possible answers. \", \"Let's think step by step. A pond is likely to be located near trees because trees need water to survive. Therefore, the most likely location for a pond with trees around it is in a forest. \", 'Let\\'s think step by step. The first word is \"reading.\" This narrows down our choices to A and B. The second word is \"newspaper.\" This points us more towards A, because option B doesn\\'t make much sense. The last word is \"practice.\" This means that the answer is probably A, because option B is more of a skill than something you practice. ']\n"
     ]
    }
   ],
   "source": [
    "#A\n",
    "A=[]\n",
    "with open(exp_output) as e:\n",
    "    lines = e.readlines()\n",
    "    for line in lines:\n",
    "        found = re.search('^A: (.*)',line)\n",
    "        if found:\n",
    "            A.append(found.group(1))\n",
    "e.close()           \n",
    "print(A[:3])"
   ]
  },
  {
   "cell_type": "code",
   "execution_count": 201,
   "id": "c5c82a10",
   "metadata": {},
   "outputs": [
    {
     "data": {
      "text/plain": [
       "1223"
      ]
     },
     "execution_count": 201,
     "metadata": {},
     "output_type": "execute_result"
    }
   ],
   "source": [
    "len(A)"
   ]
  },
  {
   "cell_type": "code",
   "execution_count": 202,
   "id": "cff63626",
   "metadata": {},
   "outputs": [
    {
     "name": "stdout",
     "output_type": "stream",
     "text": [
      "['the answer is probably (A), (B), (C), or (D).', 'the answer is C.', 'the answer is A.']\n"
     ]
    }
   ],
   "source": [
    "therefore = []\n",
    "with open(exp_output) as e:\n",
    "    lines = e.readlines()\n",
    "    for line in lines:\n",
    "        found = re.search('^Therefore, among A through E, (.*)',line)\n",
    "        if found:\n",
    "            therefore.append(found.group(1))\n",
    "e.close()            \n",
    "print(therefore[:3])"
   ]
  },
  {
   "cell_type": "code",
   "execution_count": 203,
   "id": "bddd4366",
   "metadata": {},
   "outputs": [
    {
     "data": {
      "text/plain": [
       "1221"
      ]
     },
     "execution_count": 203,
     "metadata": {},
     "output_type": "execute_result"
    }
   ],
   "source": [
    "len(therefore)"
   ]
  },
  {
   "cell_type": "code",
   "execution_count": 204,
   "id": "8fb39d10",
   "metadata": {},
   "outputs": [
    {
     "data": {
      "text/html": [
       "<div>\n",
       "<style scoped>\n",
       "    .dataframe tbody tr th:only-of-type {\n",
       "        vertical-align: middle;\n",
       "    }\n",
       "\n",
       "    .dataframe tbody tr th {\n",
       "        vertical-align: top;\n",
       "    }\n",
       "\n",
       "    .dataframe thead th {\n",
       "        text-align: right;\n",
       "    }\n",
       "</style>\n",
       "<table border=\"1\" class=\"dataframe\">\n",
       "  <thead>\n",
       "    <tr style=\"text-align: right;\">\n",
       "      <th></th>\n",
       "      <th>question</th>\n",
       "      <th>A</th>\n",
       "      <th>therefore</th>\n",
       "      <th>pred_before</th>\n",
       "      <th>pred_after</th>\n",
       "      <th>pred</th>\n",
       "      <th>GT</th>\n",
       "    </tr>\n",
       "  </thead>\n",
       "  <tbody>\n",
       "    <tr>\n",
       "      <th>0</th>\n",
       "      <td>What are candles good for eliminating?</td>\n",
       "      <td>NaN</td>\n",
       "      <td>the answer is probably (A), (B), (C), or (D).</td>\n",
       "      <td>probably (A), (B), (C), or (D).</td>\n",
       "      <td>A</td>\n",
       "      <td>A</td>\n",
       "      <td>E</td>\n",
       "    </tr>\n",
       "    <tr>\n",
       "      <th>1</th>\n",
       "      <td>If there is a pond with trees around it, where...</td>\n",
       "      <td>NaN</td>\n",
       "      <td>the answer is C.</td>\n",
       "      <td>C.</td>\n",
       "      <td>C</td>\n",
       "      <td>C</td>\n",
       "      <td>C</td>\n",
       "    </tr>\n",
       "    <tr>\n",
       "      <th>2</th>\n",
       "      <td>Reading newspaper one of many ways to practice...</td>\n",
       "      <td>NaN</td>\n",
       "      <td>the answer is A.</td>\n",
       "      <td>A.</td>\n",
       "      <td>A</td>\n",
       "      <td>A</td>\n",
       "      <td>A</td>\n",
       "    </tr>\n",
       "    <tr>\n",
       "      <th>3</th>\n",
       "      <td>What happens when to ice when it is in the sun?</td>\n",
       "      <td>NaN</td>\n",
       "      <td>the answer is (B).</td>\n",
       "      <td>(B).</td>\n",
       "      <td>B</td>\n",
       "      <td>B</td>\n",
       "      <td>B</td>\n",
       "    </tr>\n",
       "    <tr>\n",
       "      <th>4</th>\n",
       "      <td>James loved to surf but he wasn't good at it. ...</td>\n",
       "      <td>NaN</td>\n",
       "      <td>the answer is A.</td>\n",
       "      <td>A.</td>\n",
       "      <td>A</td>\n",
       "      <td>A</td>\n",
       "      <td>A</td>\n",
       "    </tr>\n",
       "  </tbody>\n",
       "</table>\n",
       "</div>"
      ],
      "text/plain": [
       "                                            question    A  \\\n",
       "0             What are candles good for eliminating?  NaN   \n",
       "1  If there is a pond with trees around it, where...  NaN   \n",
       "2  Reading newspaper one of many ways to practice...  NaN   \n",
       "3    What happens when to ice when it is in the sun?  NaN   \n",
       "4  James loved to surf but he wasn't good at it. ...  NaN   \n",
       "\n",
       "                                       therefore  \\\n",
       "0  the answer is probably (A), (B), (C), or (D).   \n",
       "1                               the answer is C.   \n",
       "2                               the answer is A.   \n",
       "3                             the answer is (B).   \n",
       "4                               the answer is A.   \n",
       "\n",
       "                       pred_before pred_after pred GT  \n",
       "0  probably (A), (B), (C), or (D).          A    A  E  \n",
       "1                               C.          C    C  C  \n",
       "2                               A.          A    A  A  \n",
       "3                             (B).          B    B  B  \n",
       "4                               A.          A    A  A  "
      ]
     },
     "execution_count": 204,
     "metadata": {},
     "output_type": "execute_result"
    }
   ],
   "source": [
    "cols = [\"question\",\"A\",\"therefore\",\"pred_before\",\"pred_after\",\"pred\",\"GT\"]\n",
    "response_data = pd.DataFrame(columns=cols)\n",
    "response_data[\"question\"]=question\n",
    "#response_data[\"A\"]=A\n",
    "response_data[\"therefore\"]=therefore\n",
    "response_data[\"pred_before\"]=pred_before\n",
    "response_data[\"pred_after\"]=pred_after\n",
    "response_data[\"pred\"]=pred\n",
    "response_data[\"GT\"]=GT\n",
    "response_data.head()"
   ]
  },
  {
   "cell_type": "code",
   "execution_count": 205,
   "id": "e830a5ef",
   "metadata": {},
   "outputs": [
    {
     "data": {
      "text/plain": [
       "1221"
      ]
     },
     "execution_count": 205,
     "metadata": {},
     "output_type": "execute_result"
    }
   ],
   "source": [
    "len(question)"
   ]
  },
  {
   "cell_type": "code",
   "execution_count": 206,
   "id": "c9f4a3f6",
   "metadata": {},
   "outputs": [
    {
     "data": {
      "text/plain": [
       "1221"
      ]
     },
     "execution_count": 206,
     "metadata": {},
     "output_type": "execute_result"
    }
   ],
   "source": [
    "len(pred_before)"
   ]
  },
  {
   "cell_type": "code",
   "execution_count": 207,
   "id": "48963694",
   "metadata": {},
   "outputs": [
    {
     "data": {
      "text/plain": [
       "1221"
      ]
     },
     "execution_count": 207,
     "metadata": {},
     "output_type": "execute_result"
    }
   ],
   "source": [
    "len(pred_after)"
   ]
  },
  {
   "cell_type": "code",
   "execution_count": 208,
   "id": "cf9f1205",
   "metadata": {},
   "outputs": [
    {
     "data": {
      "text/plain": [
       "1221"
      ]
     },
     "execution_count": 208,
     "metadata": {},
     "output_type": "execute_result"
    }
   ],
   "source": [
    "len(pred)"
   ]
  },
  {
   "cell_type": "code",
   "execution_count": 209,
   "id": "cde0b426",
   "metadata": {},
   "outputs": [
    {
     "data": {
      "text/plain": [
       "1221"
      ]
     },
     "execution_count": 209,
     "metadata": {},
     "output_type": "execute_result"
    }
   ],
   "source": [
    "len(response_data.question)"
   ]
  },
  {
   "cell_type": "code",
   "execution_count": 210,
   "id": "44bbc317",
   "metadata": {},
   "outputs": [
    {
     "data": {
      "text/plain": [
       "1221"
      ]
     },
     "execution_count": 210,
     "metadata": {},
     "output_type": "execute_result"
    }
   ],
   "source": [
    "len(response_data)"
   ]
  },
  {
   "cell_type": "code",
   "execution_count": 211,
   "id": "4639d0dd",
   "metadata": {},
   "outputs": [
    {
     "data": {
      "text/html": [
       "<div>\n",
       "<style scoped>\n",
       "    .dataframe tbody tr th:only-of-type {\n",
       "        vertical-align: middle;\n",
       "    }\n",
       "\n",
       "    .dataframe tbody tr th {\n",
       "        vertical-align: top;\n",
       "    }\n",
       "\n",
       "    .dataframe thead th {\n",
       "        text-align: right;\n",
       "    }\n",
       "</style>\n",
       "<table border=\"1\" class=\"dataframe\">\n",
       "  <thead>\n",
       "    <tr style=\"text-align: right;\">\n",
       "      <th></th>\n",
       "      <th>question</th>\n",
       "      <th>A</th>\n",
       "      <th>therefore</th>\n",
       "      <th>pred_before</th>\n",
       "      <th>pred_after</th>\n",
       "      <th>pred</th>\n",
       "      <th>GT</th>\n",
       "      <th>correct</th>\n",
       "    </tr>\n",
       "  </thead>\n",
       "  <tbody>\n",
       "    <tr>\n",
       "      <th>0</th>\n",
       "      <td>What are candles good for eliminating?</td>\n",
       "      <td>NaN</td>\n",
       "      <td>the answer is probably (A), (B), (C), or (D).</td>\n",
       "      <td>probably (A), (B), (C), or (D).</td>\n",
       "      <td>A</td>\n",
       "      <td>A</td>\n",
       "      <td>E</td>\n",
       "      <td>False</td>\n",
       "    </tr>\n",
       "    <tr>\n",
       "      <th>1</th>\n",
       "      <td>If there is a pond with trees around it, where...</td>\n",
       "      <td>NaN</td>\n",
       "      <td>the answer is C.</td>\n",
       "      <td>C.</td>\n",
       "      <td>C</td>\n",
       "      <td>C</td>\n",
       "      <td>C</td>\n",
       "      <td>True</td>\n",
       "    </tr>\n",
       "    <tr>\n",
       "      <th>2</th>\n",
       "      <td>Reading newspaper one of many ways to practice...</td>\n",
       "      <td>NaN</td>\n",
       "      <td>the answer is A.</td>\n",
       "      <td>A.</td>\n",
       "      <td>A</td>\n",
       "      <td>A</td>\n",
       "      <td>A</td>\n",
       "      <td>True</td>\n",
       "    </tr>\n",
       "    <tr>\n",
       "      <th>3</th>\n",
       "      <td>What happens when to ice when it is in the sun?</td>\n",
       "      <td>NaN</td>\n",
       "      <td>the answer is (B).</td>\n",
       "      <td>(B).</td>\n",
       "      <td>B</td>\n",
       "      <td>B</td>\n",
       "      <td>B</td>\n",
       "      <td>True</td>\n",
       "    </tr>\n",
       "    <tr>\n",
       "      <th>4</th>\n",
       "      <td>James loved to surf but he wasn't good at it. ...</td>\n",
       "      <td>NaN</td>\n",
       "      <td>the answer is A.</td>\n",
       "      <td>A.</td>\n",
       "      <td>A</td>\n",
       "      <td>A</td>\n",
       "      <td>A</td>\n",
       "      <td>True</td>\n",
       "    </tr>\n",
       "  </tbody>\n",
       "</table>\n",
       "</div>"
      ],
      "text/plain": [
       "                                            question    A  \\\n",
       "0             What are candles good for eliminating?  NaN   \n",
       "1  If there is a pond with trees around it, where...  NaN   \n",
       "2  Reading newspaper one of many ways to practice...  NaN   \n",
       "3    What happens when to ice when it is in the sun?  NaN   \n",
       "4  James loved to surf but he wasn't good at it. ...  NaN   \n",
       "\n",
       "                                       therefore  \\\n",
       "0  the answer is probably (A), (B), (C), or (D).   \n",
       "1                               the answer is C.   \n",
       "2                               the answer is A.   \n",
       "3                             the answer is (B).   \n",
       "4                               the answer is A.   \n",
       "\n",
       "                       pred_before pred_after pred GT  correct  \n",
       "0  probably (A), (B), (C), or (D).          A    A  E    False  \n",
       "1                               C.          C    C  C     True  \n",
       "2                               A.          A    A  A     True  \n",
       "3                             (B).          B    B  B     True  \n",
       "4                               A.          A    A  A     True  "
      ]
     },
     "execution_count": 211,
     "metadata": {},
     "output_type": "execute_result"
    }
   ],
   "source": [
    "response_data['correct'] = response_data.apply(lambda row: True if row.pred==row.GT else False,axis=1)\n",
    "response_data.head()"
   ]
  },
  {
   "cell_type": "markdown",
   "id": "09570782",
   "metadata": {},
   "source": [
    "with open(dataset_path) as f:\n",
    "    lines = f.readlines()\n",
    "    for line in lines:\n",
    "        json_res = json.JSONDecoder().raw_decode(line)[0]\n",
    "        if (json_res[\"question\"][\"stem\"] not in list(response_data.question)):\n",
    "            wrong_qs.append(json_res)"
   ]
  },
  {
   "cell_type": "code",
   "execution_count": 217,
   "id": "7f155660",
   "metadata": {},
   "outputs": [
    {
     "data": {
      "text/html": [
       "<div>\n",
       "<style scoped>\n",
       "    .dataframe tbody tr th:only-of-type {\n",
       "        vertical-align: middle;\n",
       "    }\n",
       "\n",
       "    .dataframe tbody tr th {\n",
       "        vertical-align: top;\n",
       "    }\n",
       "\n",
       "    .dataframe thead th {\n",
       "        text-align: right;\n",
       "    }\n",
       "</style>\n",
       "<table border=\"1\" class=\"dataframe\">\n",
       "  <thead>\n",
       "    <tr style=\"text-align: right;\">\n",
       "      <th></th>\n",
       "      <th>question</th>\n",
       "      <th>therefore</th>\n",
       "      <th>pred_before</th>\n",
       "      <th>pred_after</th>\n",
       "      <th>pred</th>\n",
       "      <th>GT</th>\n",
       "      <th>correct</th>\n",
       "    </tr>\n",
       "  </thead>\n",
       "  <tbody>\n",
       "    <tr>\n",
       "      <th>0</th>\n",
       "      <td>What are candles good for eliminating?</td>\n",
       "      <td>the answer is probably (A), (B), (C), or (D).</td>\n",
       "      <td>probably (A), (B), (C), or (D).</td>\n",
       "      <td>A</td>\n",
       "      <td>A</td>\n",
       "      <td>E</td>\n",
       "      <td>False</td>\n",
       "    </tr>\n",
       "    <tr>\n",
       "      <th>1</th>\n",
       "      <td>If there is a pond with trees around it, where...</td>\n",
       "      <td>the answer is C.</td>\n",
       "      <td>C.</td>\n",
       "      <td>C</td>\n",
       "      <td>C</td>\n",
       "      <td>C</td>\n",
       "      <td>True</td>\n",
       "    </tr>\n",
       "    <tr>\n",
       "      <th>2</th>\n",
       "      <td>Reading newspaper one of many ways to practice...</td>\n",
       "      <td>the answer is A.</td>\n",
       "      <td>A.</td>\n",
       "      <td>A</td>\n",
       "      <td>A</td>\n",
       "      <td>A</td>\n",
       "      <td>True</td>\n",
       "    </tr>\n",
       "    <tr>\n",
       "      <th>3</th>\n",
       "      <td>What happens when to ice when it is in the sun?</td>\n",
       "      <td>the answer is (B).</td>\n",
       "      <td>(B).</td>\n",
       "      <td>B</td>\n",
       "      <td>B</td>\n",
       "      <td>B</td>\n",
       "      <td>True</td>\n",
       "    </tr>\n",
       "    <tr>\n",
       "      <th>4</th>\n",
       "      <td>James loved to surf but he wasn't good at it. ...</td>\n",
       "      <td>the answer is A.</td>\n",
       "      <td>A.</td>\n",
       "      <td>A</td>\n",
       "      <td>A</td>\n",
       "      <td>A</td>\n",
       "      <td>True</td>\n",
       "    </tr>\n",
       "  </tbody>\n",
       "</table>\n",
       "</div>"
      ],
      "text/plain": [
       "                                            question  \\\n",
       "0             What are candles good for eliminating?   \n",
       "1  If there is a pond with trees around it, where...   \n",
       "2  Reading newspaper one of many ways to practice...   \n",
       "3    What happens when to ice when it is in the sun?   \n",
       "4  James loved to surf but he wasn't good at it. ...   \n",
       "\n",
       "                                       therefore  \\\n",
       "0  the answer is probably (A), (B), (C), or (D).   \n",
       "1                               the answer is C.   \n",
       "2                               the answer is A.   \n",
       "3                             the answer is (B).   \n",
       "4                               the answer is A.   \n",
       "\n",
       "                       pred_before pred_after pred GT  correct  \n",
       "0  probably (A), (B), (C), or (D).          A    A  E    False  \n",
       "1                               C.          C    C  C     True  \n",
       "2                               A.          A    A  A     True  \n",
       "3                             (B).          B    B  B     True  \n",
       "4                               A.          A    A  A     True  "
      ]
     },
     "execution_count": 217,
     "metadata": {},
     "output_type": "execute_result"
    }
   ],
   "source": [
    "response_data[[\"question\", \"therefore\",\"pred_before\",\"pred_after\",\"pred\",\"GT\",\"correct\"]].head()"
   ]
  },
  {
   "cell_type": "code",
   "execution_count": 218,
   "id": "0eff9910",
   "metadata": {},
   "outputs": [
    {
     "data": {
      "text/plain": [
       "442"
      ]
     },
     "execution_count": 218,
     "metadata": {},
     "output_type": "execute_result"
    }
   ],
   "source": [
    "mask_incorrect_qs = response_data.correct==False\n",
    "len(mask_incorrect_qs[mask_incorrect_qs==True])"
   ]
  },
  {
   "cell_type": "code",
   "execution_count": 214,
   "id": "603c1b5e",
   "metadata": {},
   "outputs": [
    {
     "name": "stdout",
     "output_type": "stream",
     "text": [
      "[{'answerKey': 'E', 'id': '83808e92381b2e5f4cdf55d1391645ae', 'question': {'question_concept': 'candle', 'choices': [{'label': 'A', 'text': 'shelf'}, {'label': 'B', 'text': 'board'}, {'label': 'C', 'text': 'church'}, {'label': 'D', 'text': 'table'}, {'label': 'E', 'text': 'dark'}], 'stem': 'What are candles good for eliminating?'}}, {'answerKey': 'E', 'id': '13fc28f53423a9b3a656c9431df1b3b5', 'question': {'question_concept': 'kissing', 'choices': [{'label': 'A', 'text': 'sexual stimulation'}, {'label': 'B', 'text': 'herpes'}, {'label': 'C', 'text': 'headache'}, {'label': 'D', 'text': 'catch cold'}, {'label': 'E', 'text': 'happiness'}], 'stem': 'What is the thing that is agitated in your head when kissing?'}}, {'answerKey': 'A', 'id': '7905b9f4ba503b0ce13b576808e99c42', 'question': {'question_concept': 'toy car', 'choices': [{'label': 'A', 'text': \"child's room\"}, {'label': 'B', 'text': \"boy's bedroom\"}, {'label': 'C', 'text': 'own home'}, {'label': 'D', 'text': 'toy store'}, {'label': 'E', 'text': 'house'}], 'stem': 'Where is a well used toy car likely to be found?'}}]\n"
     ]
    }
   ],
   "source": [
    "wrong_qs=[]\n",
    "with open(dataset_path) as f:\n",
    "    lines = f.readlines()\n",
    "    for q in response_data[mask_incorrect_qs].question:\n",
    "\n",
    "        for line in lines:\n",
    "            json_res = json.JSONDecoder().raw_decode(line)[0]\n",
    "            if (json_res[\"question\"][\"stem\"]==q):\n",
    "                wrong_qs.append(json_res)\n",
    "print(wrong_qs[:3])\n",
    "f.close()\n",
    "with open(\"wrong_qs.jsonl\", \"w\") as file:\n",
    "    for qs in wrong_qs:\n",
    "        json.dump(qs, file)\n",
    "        file.write('\\n')\n",
    "\n",
    "#Using json.dump() to write the data into a JSON file.    \n",
    "\n",
    "#    json.dump(wrong_qs, file,separators=)\n",
    "file.close()"
   ]
  },
  {
   "cell_type": "code",
   "execution_count": 215,
   "id": "2bf39b1f",
   "metadata": {},
   "outputs": [
    {
     "data": {
      "text/plain": [
       "442"
      ]
     },
     "execution_count": 215,
     "metadata": {},
     "output_type": "execute_result"
    }
   ],
   "source": [
    "len(wrong_qs)"
   ]
  },
  {
   "cell_type": "code",
   "execution_count": 216,
   "id": "a85ffc62",
   "metadata": {},
   "outputs": [
    {
     "data": {
      "text/plain": [
       "[{'answerKey': 'E',\n",
       "  'id': '83808e92381b2e5f4cdf55d1391645ae',\n",
       "  'question': {'question_concept': 'candle',\n",
       "   'choices': [{'label': 'A', 'text': 'shelf'},\n",
       "    {'label': 'B', 'text': 'board'},\n",
       "    {'label': 'C', 'text': 'church'},\n",
       "    {'label': 'D', 'text': 'table'},\n",
       "    {'label': 'E', 'text': 'dark'}],\n",
       "   'stem': 'What are candles good for eliminating?'}},\n",
       " {'answerKey': 'E',\n",
       "  'id': '13fc28f53423a9b3a656c9431df1b3b5',\n",
       "  'question': {'question_concept': 'kissing',\n",
       "   'choices': [{'label': 'A', 'text': 'sexual stimulation'},\n",
       "    {'label': 'B', 'text': 'herpes'},\n",
       "    {'label': 'C', 'text': 'headache'},\n",
       "    {'label': 'D', 'text': 'catch cold'},\n",
       "    {'label': 'E', 'text': 'happiness'}],\n",
       "   'stem': 'What is the thing that is agitated in your head when kissing?'}},\n",
       " {'answerKey': 'A',\n",
       "  'id': '7905b9f4ba503b0ce13b576808e99c42',\n",
       "  'question': {'question_concept': 'toy car',\n",
       "   'choices': [{'label': 'A', 'text': \"child's room\"},\n",
       "    {'label': 'B', 'text': \"boy's bedroom\"},\n",
       "    {'label': 'C', 'text': 'own home'},\n",
       "    {'label': 'D', 'text': 'toy store'},\n",
       "    {'label': 'E', 'text': 'house'}],\n",
       "   'stem': 'Where is a well used toy car likely to be found?'}},\n",
       " {'answerKey': 'C',\n",
       "  'id': 'c35f7de9e9005fcf654cb0b23f17acd6',\n",
       "  'question': {'question_concept': 'killing people',\n",
       "   'choices': [{'label': 'A', 'text': 'vengeance'},\n",
       "    {'label': 'B', 'text': 'going to prison'},\n",
       "    {'label': 'C', 'text': 'joy'},\n",
       "    {'label': 'D', 'text': 'afraid'},\n",
       "    {'label': 'E', 'text': 'terrible'}],\n",
       "   'stem': 'Killing people should not cause what emotion?'}},\n",
       " {'answerKey': 'D',\n",
       "  'id': '4536489e5d8e02aadc3fcc7a55effe20',\n",
       "  'question': {'question_concept': 'maps',\n",
       "   'choices': [{'label': 'A', 'text': 'bookstore'},\n",
       "    {'label': 'B', 'text': 'library'},\n",
       "    {'label': 'C', 'text': 'electrical circuit'},\n",
       "    {'label': 'D', 'text': 'cabinet'},\n",
       "    {'label': 'E', 'text': 'important when traveling'}],\n",
       "   'stem': 'Where would you get some maps that you own?'}},\n",
       " {'answerKey': 'D',\n",
       "  'id': 'f898eb5b789d2dc6804edba269f051f0',\n",
       "  'question': {'question_concept': 'begin work',\n",
       "   'choices': [{'label': 'A', 'text': 'apply for job'},\n",
       "    {'label': 'B', 'text': 'sleep'},\n",
       "    {'label': 'C', 'text': 'concentrate'},\n",
       "    {'label': 'D', 'text': 'shower'},\n",
       "    {'label': 'E', 'text': 'just do'}],\n",
       "   'stem': 'When you get up in the morning before you begin work you should do what?'}},\n",
       " {'answerKey': 'D',\n",
       "  'id': '3b8e1d236f5169b6c833a994d6d9c39a',\n",
       "  'question': {'question_concept': 'reception area',\n",
       "   'choices': [{'label': 'A', 'text': 'motel'},\n",
       "    {'label': 'B', 'text': 'chair'},\n",
       "    {'label': 'C', 'text': 'hospital'},\n",
       "    {'label': 'D', 'text': 'people'},\n",
       "    {'label': 'E', 'text': 'hotels'}],\n",
       "   'stem': \"What are you waiting alongside with when you're in a reception area?\"}},\n",
       " {'answerKey': 'E',\n",
       "  'id': '80697d599280d994d8a584c95824ef1f',\n",
       "  'question': {'question_concept': 'chess set',\n",
       "   'choices': [{'label': 'A', 'text': 'toy store'},\n",
       "    {'label': 'B', 'text': 'michigan'},\n",
       "    {'label': 'C', 'text': 'living room'},\n",
       "    {'label': 'D', 'text': 'attic'},\n",
       "    {'label': 'E', 'text': 'cupboard'}],\n",
       "   'stem': 'Where might an unused chess set be stored?'}},\n",
       " {'answerKey': 'B',\n",
       "  'id': 'ee8819b2da5453848c1cbb9d9c93403b',\n",
       "  'question': {'question_concept': 'mercury',\n",
       "   'choices': [{'label': 'A', 'text': 'toxic'},\n",
       "    {'label': 'B', 'text': 'uninhabitable'},\n",
       "    {'label': 'C', 'text': 'mercury sulphide'},\n",
       "    {'label': 'D', 'text': 'poisonous'},\n",
       "    {'label': 'E', 'text': 'jupiter'}],\n",
       "   'stem': 'The planet Mercury is unsuitable for human life or what?'}},\n",
       " {'answerKey': 'B',\n",
       "  'id': '41fac392c6a5827c1b6682d5d3798e59',\n",
       "  'question': {'question_concept': 'neighbour',\n",
       "   'choices': [{'label': 'A', 'text': 'away'},\n",
       "    {'label': 'B', 'text': 'distant'},\n",
       "    {'label': 'C', 'text': 'remote person'},\n",
       "    {'label': 'D', 'text': 'bore'},\n",
       "    {'label': 'E', 'text': 'foe'}],\n",
       "   'stem': 'John was my neighbor, it was easy to talk to him. He was never what?'}}]"
      ]
     },
     "execution_count": 216,
     "metadata": {},
     "output_type": "execute_result"
    }
   ],
   "source": [
    "wrong_qs[:10]"
   ]
  },
  {
   "cell_type": "code",
   "execution_count": null,
   "id": "19ab1678",
   "metadata": {},
   "outputs": [],
   "source": []
  }
 ],
 "metadata": {
  "kernelspec": {
   "display_name": "Python 3 (ipykernel)",
   "language": "python",
   "name": "python3"
  },
  "language_info": {
   "codemirror_mode": {
    "name": "ipython",
    "version": 3
   },
   "file_extension": ".py",
   "mimetype": "text/x-python",
   "name": "python",
   "nbconvert_exporter": "python",
   "pygments_lexer": "ipython3",
   "version": "3.9.12"
  }
 },
 "nbformat": 4,
 "nbformat_minor": 5
}
